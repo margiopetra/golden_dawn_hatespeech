{
 "cells": [
  {
   "cell_type": "code",
   "execution_count": null,
   "metadata": {},
   "outputs": [],
   "source": [
    "import pandas as pd\n",
    "import pickle as pkl\n",
    "import numpy as np #numerical;\n",
    "\n",
    "import nltk\n",
    "from nltk.tokenize import word_tokenize\n",
    "from nltk.probability import FreqDist\n",
    "import matplotlib.pyplot as plt\n",
    "\n",
    "import el_core_news_sm\n",
    "nlp = el_core_news_sm.load()\n",
    "\n",
    "import emoji\n",
    "\n",
    "\n",
    "import wordcloud\n",
    "from wordcloud import WordCloud"
   ]
  },
  {
   "cell_type": "code",
   "execution_count": null,
   "metadata": {},
   "outputs": [],
   "source": [
    "with open('Implicit.pkl', 'rb') as handle:\n",
    "    Implicit = pkl.load(handle)"
   ]
  },
  {
   "cell_type": "code",
   "execution_count": null,
   "metadata": {},
   "outputs": [],
   "source": [
    "with open('Numerical_Features_Implicit.pkl', 'rb') as handle:\n",
    "    Numerical_Features_Implicit = pkl.load(handle)"
   ]
  },
  {
   "cell_type": "code",
   "execution_count": null,
   "metadata": {},
   "outputs": [],
   "source": [
    "with open('Preprocessed.pkl', 'rb') as handle:\n",
    "    Explicit_NoHate = pkl.load(handle)\n",
    "\n",
    "Explicit = Explicit_NoHate.loc[ (Explicit_NoHate['Label'] == \"Explicit\")]\n",
    "\n",
    "with open('Explicit.pkl', 'wb') as handle:\n",
    "    pkl.dump(Explicit, handle)\n",
    "\n"
   ]
  },
  {
   "cell_type": "code",
   "execution_count": null,
   "metadata": {},
   "outputs": [],
   "source": [
    "with open('Numerical_Features.pkl', 'rb') as handle:\n",
    "    Numerical_Features_Explicit = pkl.load(handle)"
   ]
  },
  {
   "cell_type": "code",
   "execution_count": null,
   "metadata": {},
   "outputs": [],
   "source": [
    "Explicit.describe()"
   ]
  },
  {
   "cell_type": "code",
   "execution_count": null,
   "metadata": {},
   "outputs": [],
   "source": [
    "Implicit.Emojie.describe()"
   ]
  },
  {
   "cell_type": "code",
   "execution_count": null,
   "metadata": {},
   "outputs": [],
   "source": [
    "Explicit.Emojie.describe()"
   ]
  },
  {
   "cell_type": "code",
   "execution_count": null,
   "metadata": {},
   "outputs": [],
   "source": [
    "emojie_Implicit = Implicit.Emojie[Implicit.Emojie.notnull()]\n",
    "emojie_Implicit = emojie_Implicit.reset_index(drop=True)"
   ]
  },
  {
   "cell_type": "code",
   "execution_count": null,
   "metadata": {},
   "outputs": [],
   "source": [
    "emojie_Explicit = Explicit.Emojie[Explicit.Emojie.notnull()]\n",
    "emojie_Explicit = emojie_Explicit.reset_index(drop=True)\n",
    "emojie_Explicit"
   ]
  },
  {
   "cell_type": "code",
   "execution_count": null,
   "metadata": {},
   "outputs": [],
   "source": [
    "from collections import Counter \n",
    "\n",
    "def unique_emojies(emojie):\n",
    "    \n",
    "    keys=[]\n",
    "    key_values={}\n",
    "    key_emojie=[]\n",
    "    \n",
    "    Cdict=emojie[0]\n",
    "    \n",
    "    for i in range (0,len(emojie)):\n",
    "        for key,value in emojie[i].items():\n",
    "            keys.append(key)\n",
    "            \n",
    "            if key in key_values:\n",
    "                key_values[key]+=value\n",
    "            else:\n",
    "                key_values[key]=value\n",
    "#             key_values.update(emojie[i])\n",
    "\n",
    "                              \n",
    "#     keys = np.array(keys) \n",
    "\n",
    "#     key_unique = np.unique(np.unique(keys))\n",
    "\n",
    "    for key,value in key_values.items():\n",
    "            key_emojie.append(tuple((key,value,emoji.emojize(key))))\n",
    "            \n",
    "#     print(key_values)\n",
    "    return key_emojie\n",
    "\n",
    "\n",
    "emojie_Implicit_unique=unique_emojies(emojie_Implicit)\n",
    "emojie_Explicit_unique = unique_emojies(emojie_Explicit)\n"
   ]
  },
  {
   "cell_type": "code",
   "execution_count": null,
   "metadata": {
    "scrolled": true
   },
   "outputs": [],
   "source": [
    "emojie_Implicit_unique\n",
    "em_Imp_un_sort = sorted(emojie_Implicit_unique, key=lambda x: x[1], reverse=True)\n",
    "em_Imp_un_sort[:10]"
   ]
  },
  {
   "cell_type": "code",
   "execution_count": null,
   "metadata": {},
   "outputs": [],
   "source": [
    "# emojie_Implicit_unique[4]"
   ]
  },
  {
   "cell_type": "code",
   "execution_count": null,
   "metadata": {},
   "outputs": [],
   "source": [
    "emojie_Explicit_unique\n",
    "em_Ex_un_sort = sorted(emojie_Explicit_unique, key=lambda x: x[1], reverse=True)\n",
    "em_Ex_un_sort[:10]"
   ]
  },
  {
   "cell_type": "code",
   "execution_count": null,
   "metadata": {},
   "outputs": [],
   "source": [
    "Numerical_Features_Implicit.mean()"
   ]
  },
  {
   "cell_type": "code",
   "execution_count": null,
   "metadata": {},
   "outputs": [],
   "source": [
    "Numerical_Features_Explicit.mean()"
   ]
  },
  {
   "cell_type": "code",
   "execution_count": null,
   "metadata": {},
   "outputs": [],
   "source": [
    "# Explicit.NoPunctuation[1][1]"
   ]
  },
  {
   "cell_type": "code",
   "execution_count": null,
   "metadata": {},
   "outputs": [],
   "source": [
    "def tokenize(text):\n",
    "    doc = nlp(text)\n",
    "    return[token.text for token in doc]"
   ]
  },
  {
   "cell_type": "code",
   "execution_count": null,
   "metadata": {},
   "outputs": [],
   "source": [
    "Explicit[\"NoPunctuation\"] = Explicit.NoPunctuation.apply(tokenize)\n",
    "ex_tokens_punk = []\n",
    "\n",
    "for token in Explicit.NoPunctuation :\n",
    "    ex_tokens_punk.append(token)\n",
    "    \n",
    "ex_tokens_punk_str = \"\"\n",
    "\n",
    "for token in ex_tokens_punk:\n",
    "    ex_tokens_punk_str = ex_tokens_punk_str + \" \".join(token)\n",
    "\n",
    "ex_tokens_punk_word = nltk.tokenize.word_tokenize(ex_tokens_punk_str)\n",
    "fdist_ex_np = FreqDist(ex_tokens_punk_word)\n",
    "print(fdist_ex_np)"
   ]
  },
  {
   "cell_type": "code",
   "execution_count": null,
   "metadata": {
    "scrolled": false
   },
   "outputs": [],
   "source": [
    "fig= plt.figure(figsize=(15,5))\n",
    "fdist_ex_np.plot(50,cumulative=False)\n",
    "plt.show()"
   ]
  },
  {
   "cell_type": "code",
   "execution_count": null,
   "metadata": {
    "scrolled": false
   },
   "outputs": [],
   "source": [
    "# Implicit.NoPunctuation "
   ]
  },
  {
   "cell_type": "code",
   "execution_count": null,
   "metadata": {},
   "outputs": [],
   "source": [
    "fdist_ex_np.most_common()"
   ]
  },
  {
   "cell_type": "code",
   "execution_count": null,
   "metadata": {
    "scrolled": true
   },
   "outputs": [],
   "source": [
    "wordcloud = WordCloud(max_font_size=70, max_words=100, background_color=\"white\").generate_from_frequencies(fdist_ex_np)\n",
    "plt.figure(figsize=(12,8))\n",
    "plt.imshow(wordcloud, interpolation=\"bilinear\")\n",
    "plt.axis(\"off\")\n",
    "plt.show()"
   ]
  },
  {
   "cell_type": "code",
   "execution_count": null,
   "metadata": {},
   "outputs": [],
   "source": [
    "Explicit.NoPunctuation\n"
   ]
  },
  {
   "cell_type": "code",
   "execution_count": null,
   "metadata": {},
   "outputs": [],
   "source": [
    "# Implicit[\"NoPunctuation\"] = Implicit.NoPunctuation.apply(tokenize)\n",
    "\n",
    "im_tokens_punk = []\n",
    "\n",
    "for token in Implicit.NoPunctuation :\n",
    "    im_tokens_punk.append(token)\n",
    "    \n",
    "im_tokens_punk_str = \"\"\n",
    "\n",
    "for token in im_tokens_punk:\n",
    "    im_tokens_punk_str = im_tokens_punk_str + \" \".join(token)\n",
    "\n",
    "im_tokens_punk_word = nltk.tokenize.word_tokenize(im_tokens_punk_str)\n",
    "fdist_im_np = FreqDist(im_tokens_punk_word)\n",
    "print(fdist_im_np)"
   ]
  },
  {
   "cell_type": "code",
   "execution_count": null,
   "metadata": {},
   "outputs": [],
   "source": [
    "fig= plt.figure(figsize=(15,5))\n",
    "fdist_im_np.plot(50,cumulative=False)\n",
    "plt.show()"
   ]
  },
  {
   "cell_type": "code",
   "execution_count": null,
   "metadata": {},
   "outputs": [],
   "source": [
    "fdist_im_np.most_common()"
   ]
  },
  {
   "cell_type": "code",
   "execution_count": null,
   "metadata": {},
   "outputs": [],
   "source": [
    "wordcloud = WordCloud(max_font_size=70, max_words=100, background_color=\"white\").generate_from_frequencies(fdist_im_np)\n",
    "plt.figure(figsize=(12,8))\n",
    "plt.imshow(wordcloud, interpolation=\"bilinear\")\n",
    "plt.axis(\"off\")\n",
    "plt.show()"
   ]
  },
  {
   "cell_type": "code",
   "execution_count": null,
   "metadata": {},
   "outputs": [],
   "source": []
  }
 ],
 "metadata": {
  "kernelspec": {
   "display_name": "Python 3",
   "language": "python",
   "name": "python3"
  },
  "language_info": {
   "codemirror_mode": {
    "name": "ipython",
    "version": 3
   },
   "file_extension": ".py",
   "mimetype": "text/x-python",
   "name": "python",
   "nbconvert_exporter": "python",
   "pygments_lexer": "ipython3",
   "version": "3.7.0"
  }
 },
 "nbformat": 4,
 "nbformat_minor": 2
}
