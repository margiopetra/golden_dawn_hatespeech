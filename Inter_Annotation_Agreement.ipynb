{
 "cells": [
  {
   "cell_type": "code",
   "execution_count": null,
   "metadata": {},
   "outputs": [],
   "source": [
    "#Inter-Annotation Aggreement for the 3 external annotators\n",
    "#calculated by Conen's Kappa score"
   ]
  },
  {
   "cell_type": "code",
   "execution_count": null,
   "metadata": {},
   "outputs": [],
   "source": [
    "import pandas as pd\n",
    "import re\n",
    "from sklearn.metrics import cohen_kappa_score"
   ]
  },
  {
   "cell_type": "code",
   "execution_count": null,
   "metadata": {},
   "outputs": [],
   "source": [
    "annotation = \"Annotator3.csv\"\n",
    "\n",
    "c_l = []\n",
    "everything = []\n",
    "\n",
    "chunksize = 100\n",
    "    \n",
    "for chunk in pd.read_csv(annotation,engine='python',encoding = 'utf8',sep=\";\",header=1, usecols = [0, 1, 2, 3, 4, 5, 6, 7, 8, 9, 10], chunksize=chunksize):\n",
    "    \n",
    "    r = chunk\n",
    "    r.columns = [\"Channel\",\"VideoTitle\",\"VideoLink\",\"VideoPublishedYear\",\"VideoViews\",\"CommentID\",\"ParrentCommentID\",\"CommentAuthor\",\"CommentText\",\"Label_1\",\"Label_2\"]\n",
    "    for i in range(len(chunk)):\n",
    "        c_l.append({'CommentText': r.iloc[i]['CommentText'], 'Label_1': r.iloc[i]['Label_1'],'Label_2': r.iloc[i]['Label_2']})\n",
    "        everything.append({'Channel': r.iloc[i]['Channel'],'VideoTitle': r.iloc[i]['VideoTitle'],'VideoLink': r.iloc[i]['VideoLink'],'VideoPublishedYear': r.iloc[i]['VideoPublishedYear'],'VideoViews': r.iloc[i]['VideoViews'],'CommentID': r.iloc[i]['CommentID'],'ParrentCommentID': r.iloc[i]['ParrentCommentID'],'CommentAuthor': r.iloc[i]['CommentAuthor'],'CommentText': r.iloc[i]['CommentText'],'Label_1': r.iloc[i]['Label_1'],'Label_2': r.iloc[i]['Label_2']})\n",
    "        \n",
    "Commnet_Label = pd.DataFrame(c_l)\n",
    "All = pd.DataFrame(everything)"
   ]
  },
  {
   "cell_type": "code",
   "execution_count": null,
   "metadata": {},
   "outputs": [],
   "source": [
    "Agreement_G = Commnet_Label[Commnet_Label.Label_2.notna()]"
   ]
  },
  {
   "cell_type": "code",
   "execution_count": null,
   "metadata": {},
   "outputs": [],
   "source": [
    "sklearn.metrics.cohen_kappa_score(Agreement_G.Label_2, Agreement_G.Label_1, labels=None, weights=None)"
   ]
  },
  {
   "cell_type": "code",
   "execution_count": null,
   "metadata": {},
   "outputs": [],
   "source": [
    "annotation2 = \"Annotator4.csv\"\n",
    "\n",
    "c_l = []\n",
    "everything = []\n",
    "\n",
    "chunksize = 100\n",
    "    \n",
    "for chunk in pd.read_csv(annotation2,engine='python',encoding = 'utf8',sep=\";\",header=1, usecols = [0, 1, 2, 3, 4, 5, 6, 7, 8, 9, 10, 11], chunksize=chunksize):\n",
    "    \n",
    "    r = chunk\n",
    "    r.columns = [\"Channel\",\"VideoTitle\",\"VideoLink\",\"VideoPublishedYear\",\"VideoViews\",\"CommentID\",\"ParrentCommentID\",\"CommentAuthor\",\"CommentText\",\"CommentYear\",\"Column1\",\"Label\"]\n",
    "    for i in range(len(chunk)):\n",
    "        c_l.append({'CommentText': r.iloc[i]['CommentText'], 'Column1': r.iloc[i]['Column1'],'Label': r.iloc[i]['Label']})\n",
    "        everything.append({'Channel': r.iloc[i]['Channel'],'VideoTitle': r.iloc[i]['VideoTitle'],'VideoLink': r.iloc[i]['VideoLink'],'VideoPublishedYear': r.iloc[i]['VideoPublishedYear'],'VideoViews': r.iloc[i]['VideoViews'],'CommentID': r.iloc[i]['CommentID'],'ParrentCommentID': r.iloc[i]['ParrentCommentID'],'CommentAuthor': r.iloc[i]['CommentAuthor'],'CommentText': r.iloc[i]['CommentText'],'CommentYear': r.iloc[i]['CommentYear'],'Column1': r.iloc[i]['Column1'],'Label': r.iloc[i]['Label']})\n",
    "        \n",
    "Commnet_Label_A = pd.DataFrame(c_l)\n",
    "All_A = pd.DataFrame(everything)"
   ]
  },
  {
   "cell_type": "code",
   "execution_count": null,
   "metadata": {},
   "outputs": [],
   "source": [
    "Agreement_A = Commnet_Label_A[Commnet_Label_A.Column1.notna()]"
   ]
  },
  {
   "cell_type": "code",
   "execution_count": null,
   "metadata": {},
   "outputs": [],
   "source": [
    "sklearn.metrics.cohen_kappa_score(Agreement_A.Label, Agreement_A.Column1, labels=None, weights=None)"
   ]
  },
  {
   "cell_type": "code",
   "execution_count": null,
   "metadata": {},
   "outputs": [],
   "source": [
    "annotation3 = \"Annotator5.csv\"\n",
    "\n",
    "c_l = []\n",
    "everything = []\n",
    "\n",
    "chunksize = 100\n",
    "    \n",
    "for chunk in pd.read_csv(annotation3,engine='python',encoding = 'utf8',sep=\";\",header=1, usecols = [0, 1, 2, 3, 4, 5, 6, 7, 8, 9, 10], chunksize=chunksize):\n",
    "    \n",
    "    r = chunk\n",
    "    r.columns = [\"Channel\",\"VideoTitle\",\"VideoLink\",\"VideoPublishedYear\",\"VideoViews\",\"CommentID\",\"ParrentCommentID\",\"CommentAuthor\",\"CommentText\",\"Label_1\",\"Label_2\"]\n",
    "    for i in range(len(chunk)):\n",
    "        c_l.append({'CommentText': r.iloc[i]['CommentText'], 'Label_1': r.iloc[i]['Label_1'],'Label_2': r.iloc[i]['Label_2']})\n",
    "        everything.append({'Channel': r.iloc[i]['Channel'],'VideoTitle': r.iloc[i]['VideoTitle'],'VideoLink': r.iloc[i]['VideoLink'],'VideoPublishedYear': r.iloc[i]['VideoPublishedYear'],'VideoViews': r.iloc[i]['VideoViews'],'CommentID': r.iloc[i]['CommentID'],'ParrentCommentID': r.iloc[i]['ParrentCommentID'],'CommentAuthor': r.iloc[i]['CommentAuthor'],'CommentText': r.iloc[i]['CommentText'],'Label_1': r.iloc[i]['Label_1'],'Label_2': r.iloc[i]['Label_2']})\n",
    "        \n",
    "Commnet_Label_An = pd.DataFrame(c_l)\n",
    "All_An = pd.DataFrame(everything)"
   ]
  },
  {
   "cell_type": "code",
   "execution_count": null,
   "metadata": {},
   "outputs": [],
   "source": [
    "Agreement_An = Commnet_Label_An[Commnet_Label_An.Label_2.notna()]"
   ]
  },
  {
   "cell_type": "code",
   "execution_count": null,
   "metadata": {},
   "outputs": [],
   "source": [
    "sklearn.metrics.cohen_kappa_score(Agreement_An.Label_1, Agreement_An.Label_2, labels=None, weights=None)"
   ]
  }
 ],
 "metadata": {
  "kernelspec": {
   "display_name": "Python 3",
   "language": "python",
   "name": "python3"
  },
  "language_info": {
   "codemirror_mode": {
    "name": "ipython",
    "version": 3
   },
   "file_extension": ".py",
   "mimetype": "text/x-python",
   "name": "python",
   "nbconvert_exporter": "python",
   "pygments_lexer": "ipython3",
   "version": "3.7.0"
  }
 },
 "nbformat": 4,
 "nbformat_minor": 2
}
